{
  "nbformat": 4,
  "nbformat_minor": 0,
  "metadata": {
    "colab": {
      "provenance": []
    },
    "kernelspec": {
      "name": "python3",
      "display_name": "Python 3"
    },
    "language_info": {
      "name": "python"
    }
  },
  "cells": [
    {
      "cell_type": "code",
      "source": [
        "import pandas as pd\n",
        "import sqlite3\n",
        "df = pd.read_excel('/content/cleaned_data.xlsx')\n",
        "conn = sqlite3.connect(':memory:')\n",
        "df.to_sql('my_table', conn, index=False)\n",
        "query = 'SELECT * FROM my_table'\n",
        "result_df = pd.read_sql(query, conn)\n",
        "print(result_df.head())"
      ],
      "metadata": {
        "colab": {
          "base_uri": "https://localhost:8080/"
        },
        "id": "0S7jh6PGc9-u",
        "outputId": "42971910-6c3c-4190-c1ea-7d7e6e533425"
      },
      "execution_count": 19,
      "outputs": [
        {
          "output_type": "stream",
          "name": "stdout",
          "text": [
            "   Unnamed: 0  Ind_ID   Test_date  Cough_symptoms  Fever  Sore_throat  \\\n",
            "0           0       1  11-03-2020               1      0            1   \n",
            "1           1       2  11-03-2020               0      1            0   \n",
            "2           2       3  11-03-2020               0      1            0   \n",
            "3           3       4  11-03-2020               1      0            0   \n",
            "4           4       5  11-03-2020               1      0            0   \n",
            "\n",
            "   Shortness_of_breath  Headache    Corona Age_60_above     Sex  \\\n",
            "0                    0         0  negative           No  female   \n",
            "1                    0         0  positive           No  female   \n",
            "2                    0         0  positive           No  female   \n",
            "3                    0         0  negative           No  female   \n",
            "4                    0         0  negative           No  female   \n",
            "\n",
            "            Known_contact  \n",
            "0                  Abroad  \n",
            "1                  Abroad  \n",
            "2                  Abroad  \n",
            "3                  Abroad  \n",
            "4  Contact with confirmed  \n"
          ]
        }
      ]
    },
    {
      "cell_type": "markdown",
      "source": [
        "1.Find the number of corona patients who faced shortness of breath?"
      ],
      "metadata": {
        "id": "kaljn1JckUgo"
      }
    },
    {
      "cell_type": "code",
      "source": [
        "query = \"SELECT COUNT(*) AS num_patients_shortness_of_breath FROM my_table WHERE Corona = 'positive' AND Shortness_of_breath = TRUE\"\n",
        "result_df = pd.read_sql(query, conn)\n",
        "print(result_df.head())"
      ],
      "metadata": {
        "colab": {
          "base_uri": "https://localhost:8080/"
        },
        "id": "QsUjLme4d0_M",
        "outputId": "e17ea191-0506-4337-b854-29e5217b32ae"
      },
      "execution_count": 41,
      "outputs": [
        {
          "output_type": "stream",
          "name": "stdout",
          "text": [
            "   num_patients_shortness_of_breath\n",
            "0                               415\n"
          ]
        }
      ]
    },
    {
      "cell_type": "markdown",
      "source": [
        "2.Find the number of negative corona patients who have fever and sore_throat?"
      ],
      "metadata": {
        "id": "ckH6bh1GmnXB"
      }
    },
    {
      "cell_type": "code",
      "source": [
        "\n",
        "query = \"SELECT COUNT(*) AS num_negative_patients_fever_sore_throat FROM my_table WHERE Corona = 'negative' AND Fever = TRUE AND Sore_throat = TRUE\"\n",
        "result_df = pd.read_sql(query, conn)\n",
        "print(result_df.head())"
      ],
      "metadata": {
        "colab": {
          "base_uri": "https://localhost:8080/"
        },
        "id": "UoMzi_4Dflr0",
        "outputId": "137dac56-2ac8-4047-8669-5e92642cbec7"
      },
      "execution_count": 40,
      "outputs": [
        {
          "output_type": "stream",
          "name": "stdout",
          "text": [
            "   num_negative_patients_fever_sore_throat\n",
            "0                                       88\n"
          ]
        }
      ]
    },
    {
      "cell_type": "markdown",
      "source": [
        "3.Group the data by month and rank the number of positive cases?"
      ],
      "metadata": {
        "id": "bNLajUzsmdjp"
      }
    },
    {
      "cell_type": "code",
      "source": [
        "query = \"\"\"SELECT strftime('%m', Test_date) AS month_,\n",
        "       COUNT(*) AS num_positive_cases,\n",
        "       DENSE_RANK() OVER (ORDER BY COUNT(*) DESC) AS rank_\n",
        "FROM my_table\n",
        "WHERE Corona = 'positive'\n",
        "GROUP BY month_;\"\"\"\n",
        "\n",
        "result_df = pd.read_sql(query, conn)\n",
        "print(result_df.head())"
      ],
      "metadata": {
        "colab": {
          "base_uri": "https://localhost:8080/"
        },
        "id": "4D_U1Z-yhGFU",
        "outputId": "52fbc4b1-76da-447d-8369-e3843483fcb0"
      },
      "execution_count": 31,
      "outputs": [
        {
          "output_type": "stream",
          "name": "stdout",
          "text": [
            "  month_  num_positive_cases  rank_\n",
            "0   None                2375      1\n"
          ]
        }
      ]
    },
    {
      "cell_type": "markdown",
      "source": [
        "4.Find the female negative corona patients who faced cough and headache?"
      ],
      "metadata": {
        "id": "c5c2YJ8zmVDr"
      }
    },
    {
      "cell_type": "code",
      "source": [
        "query = \"\"\" SELECT COUNT(*) AS num_female_negative_patients_cough_headache FROM my_table\n",
        "WHERE Corona = 'negative' AND Sex = 'female' AND Cough_symptoms = TRUE AND Headache = TRUE;\n",
        "\"\"\"\n",
        "result_df = pd.read_sql(query, conn)\n",
        "print(result_df.head())"
      ],
      "metadata": {
        "colab": {
          "base_uri": "https://localhost:8080/"
        },
        "id": "xMYqiCpniISt",
        "outputId": "74e6e8db-b52d-43f4-cd84-aa5cbc795b4f"
      },
      "execution_count": 39,
      "outputs": [
        {
          "output_type": "stream",
          "name": "stdout",
          "text": [
            "   num_female_negative_patients_cough_headache\n",
            "0                                           38\n"
          ]
        }
      ]
    },
    {
      "cell_type": "markdown",
      "source": [
        "5.How many elderly corona patients have faced breathing problems?"
      ],
      "metadata": {
        "id": "S4Hi2HdqmObN"
      }
    },
    {
      "cell_type": "code",
      "source": [
        "query = \"\"\" SELECT COUNT(*) AS num_elderly_patients_breathing_problems\n",
        "FROM my_table\n",
        "WHERE Corona = 'positive' AND Age_60_above = TRUE AND Shortness_of_breath = TRUE ;\"\"\"\n",
        "result_df = pd.read_sql(query, conn)\n",
        "print(result_df.head())"
      ],
      "metadata": {
        "colab": {
          "base_uri": "https://localhost:8080/"
        },
        "id": "9HARtmeMi3dW",
        "outputId": "5a3e8a9d-3891-4a32-de9b-b30cb3938814"
      },
      "execution_count": 38,
      "outputs": [
        {
          "output_type": "stream",
          "name": "stdout",
          "text": [
            "   num_elderly_patients_breathing_problems\n",
            "0                                        0\n"
          ]
        }
      ]
    },
    {
      "cell_type": "markdown",
      "source": [
        "6.. Which three symptoms were more common among COVID positive patients?"
      ],
      "metadata": {
        "id": "CFmE7gO1mD1a"
      }
    },
    {
      "cell_type": "code",
      "source": [
        "query = \"\"\" SELECT Cough_symptoms, Fever, Sore_throat, COUNT(*) AS num_cases\n",
        "FROM my_table\n",
        "WHERE Corona = 'positive'\n",
        "GROUP BY Cough_symptoms, Fever, Sore_throat\n",
        "ORDER BY num_cases DESC\n",
        "LIMIT 3;\"\"\"\n",
        "result_df = pd.read_sql(query, conn)\n",
        "print(result_df.head())"
      ],
      "metadata": {
        "colab": {
          "base_uri": "https://localhost:8080/"
        },
        "id": "P3xtoUGhj1Kt",
        "outputId": "b864f29d-e5fd-4c32-9b5f-c35a7a4dbca3"
      },
      "execution_count": 43,
      "outputs": [
        {
          "output_type": "stream",
          "name": "stdout",
          "text": [
            "   Cough_symptoms  Fever  Sore_throat  num_cases\n",
            "0               1      1            0        658\n",
            "1               0      0            0        633\n",
            "2               1      0            0        356\n"
          ]
        }
      ]
    },
    {
      "cell_type": "markdown",
      "source": [
        "7. Which symptom was less common among COVID negative people?"
      ],
      "metadata": {
        "id": "e_LqpVpdmB32"
      }
    },
    {
      "cell_type": "code",
      "source": [
        "query = \"\"\" SELECT CASE\n",
        "    WHEN Cough_symptoms = 'TRUE' THEN 'Cough'\n",
        "    WHEN Fever = 'TRUE' THEN 'Fever'\n",
        "    WHEN Sore_throat = 'TRUE' THEN 'Sore throat'\n",
        "    WHEN Shortness_of_breath = 'TRUE' THEN 'Shortness of breath'\n",
        "    WHEN Headache = 'TRUE' THEN 'Headache'\n",
        "    ELSE 'No symptoms'\n",
        "    END AS symptom, COUNT(*) AS num_negative_cases\n",
        "FROM my_table\n",
        "WHERE Corona = 'negative'\n",
        "GROUP BY symptom\n",
        "ORDER BY num_negative_cases\n",
        "LIMIT 5;\"\"\"\n",
        "result_df = pd.read_sql(query, conn)\n",
        "print(result_df.head())\n"
      ],
      "metadata": {
        "colab": {
          "base_uri": "https://localhost:8080/"
        },
        "id": "eu6_yOVYkSJD",
        "outputId": "35ac93bf-e2a1-4c6a-d9d0-a70ed7646794"
      },
      "execution_count": 45,
      "outputs": [
        {
          "output_type": "stream",
          "name": "stdout",
          "text": [
            "       symptom  num_negative_cases\n",
            "0  No symptoms               26681\n"
          ]
        }
      ]
    },
    {
      "cell_type": "markdown",
      "source": [
        "8. What are the most common symptoms among COVID positive males whose known contact was abroad\n"
      ],
      "metadata": {
        "id": "52xDyPRVl5gQ"
      }
    },
    {
      "cell_type": "code",
      "source": [
        "query = \"\"\" SELECT Cough_symptoms, Fever, Sore_throat, Headache, Shortness_of_breath, COUNT(*) AS num_cases\n",
        "FROM my_table\n",
        "WHERE Corona = 'positive' AND Sex = 'male' AND Known_contact = 'Abroad'\n",
        "GROUP BY Cough_symptoms, Fever, Sore_throat, Headache, Shortness_of_breath\n",
        "ORDER BY num_cases DESC\n",
        "LIMIT 1;\n",
        "\"\"\"\n",
        "result_df = pd.read_sql(query, conn)\n",
        "print(result_df.head())"
      ],
      "metadata": {
        "colab": {
          "base_uri": "https://localhost:8080/"
        },
        "id": "3Ms-QU-HlWGp",
        "outputId": "40de95f8-228e-4712-dda1-ffcd3a15c84e"
      },
      "execution_count": 47,
      "outputs": [
        {
          "output_type": "stream",
          "name": "stdout",
          "text": [
            "   Cough_symptoms  Fever  Sore_throat  Headache  Shortness_of_breath  \\\n",
            "0               1      1            0         0                    0   \n",
            "\n",
            "   num_cases  \n",
            "0        104  \n"
          ]
        }
      ]
    }
  ]
}